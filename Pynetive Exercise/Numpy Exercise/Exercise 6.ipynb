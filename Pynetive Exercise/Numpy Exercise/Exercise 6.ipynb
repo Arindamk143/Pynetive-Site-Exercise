{
 "cells": [
  {
   "cell_type": "code",
   "execution_count": 1,
   "id": "3d6e576b",
   "metadata": {},
   "outputs": [],
   "source": [
    "import numpy as np"
   ]
  },
  {
   "cell_type": "code",
   "execution_count": 2,
   "id": "a44e031e",
   "metadata": {},
   "outputs": [],
   "source": [
    "a = np.arange(10,34,1)\n",
    "b = a.reshape(8,3)"
   ]
  },
  {
   "cell_type": "code",
   "execution_count": 3,
   "id": "e6c9ee67",
   "metadata": {},
   "outputs": [
    {
     "name": "stdout",
     "output_type": "stream",
     "text": [
      "creating 8*3 arrays with numpy.arrange\n"
     ]
    },
    {
     "data": {
      "text/plain": [
       "array([[10, 11, 12],\n",
       "       [13, 14, 15],\n",
       "       [16, 17, 18],\n",
       "       [19, 20, 21],\n",
       "       [22, 23, 24],\n",
       "       [25, 26, 27],\n",
       "       [28, 29, 30],\n",
       "       [31, 32, 33]])"
      ]
     },
     "execution_count": 3,
     "metadata": {},
     "output_type": "execute_result"
    }
   ],
   "source": [
    "print(\"creating 8*3 arrays with numpy.arrange\")\n",
    "b"
   ]
  },
  {
   "cell_type": "code",
   "execution_count": 4,
   "id": "c92fc98c",
   "metadata": {},
   "outputs": [],
   "source": [
    "c = np.split(b,4)"
   ]
  },
  {
   "cell_type": "code",
   "execution_count": 5,
   "id": "5340eeb6",
   "metadata": {},
   "outputs": [
    {
     "name": "stdout",
     "output_type": "stream",
     "text": [
      "diving 8*3 arry on 4 sub arrays \n"
     ]
    },
    {
     "data": {
      "text/plain": [
       "[array([[10, 11, 12],\n",
       "        [13, 14, 15]]),\n",
       " array([[16, 17, 18],\n",
       "        [19, 20, 21]]),\n",
       " array([[22, 23, 24],\n",
       "        [25, 26, 27]]),\n",
       " array([[28, 29, 30],\n",
       "        [31, 32, 33]])]"
      ]
     },
     "execution_count": 5,
     "metadata": {},
     "output_type": "execute_result"
    }
   ],
   "source": [
    "print(\"diving 8*3 arry on 4 sub arrays \")\n",
    "c"
   ]
  }
 ],
 "metadata": {
  "kernelspec": {
   "display_name": "Python 3 (ipykernel)",
   "language": "python",
   "name": "python3"
  },
  "language_info": {
   "codemirror_mode": {
    "name": "ipython",
    "version": 3
   },
   "file_extension": ".py",
   "mimetype": "text/x-python",
   "name": "python",
   "nbconvert_exporter": "python",
   "pygments_lexer": "ipython3",
   "version": "3.10.2"
  }
 },
 "nbformat": 4,
 "nbformat_minor": 5
}
