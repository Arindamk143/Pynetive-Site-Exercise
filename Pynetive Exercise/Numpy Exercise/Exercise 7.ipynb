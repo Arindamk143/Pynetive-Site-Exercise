{
 "cells": [
  {
   "cell_type": "code",
   "execution_count": 1,
   "id": "5999c908",
   "metadata": {},
   "outputs": [],
   "source": [
    "import numpy as np"
   ]
  },
  {
   "cell_type": "code",
   "execution_count": 2,
   "id": "42558762",
   "metadata": {},
   "outputs": [],
   "source": [
    "sampleArray = np.array([[34,43,73],[82,22,12],[53,94,66]])"
   ]
  },
  {
   "cell_type": "code",
   "execution_count": 3,
   "id": "a51eb8de",
   "metadata": {},
   "outputs": [
    {
     "data": {
      "text/plain": [
       "array([[34, 43, 73],\n",
       "       [82, 22, 12],\n",
       "       [53, 94, 66]])"
      ]
     },
     "execution_count": 3,
     "metadata": {},
     "output_type": "execute_result"
    }
   ],
   "source": [
    "sampleArray"
   ]
  },
  {
   "cell_type": "code",
   "execution_count": 4,
   "id": "979f682f",
   "metadata": {},
   "outputs": [],
   "source": [
    "a = sampleArray[:,sampleArray[1,:].argsort()]"
   ]
  },
  {
   "cell_type": "code",
   "execution_count": 5,
   "id": "0c2b01f1",
   "metadata": {},
   "outputs": [
    {
     "name": "stdout",
     "output_type": "stream",
     "text": [
      "sorting numpy as rows: \n"
     ]
    },
    {
     "data": {
      "text/plain": [
       "array([[73, 43, 34],\n",
       "       [12, 22, 82],\n",
       "       [66, 94, 53]])"
      ]
     },
     "execution_count": 5,
     "metadata": {},
     "output_type": "execute_result"
    }
   ],
   "source": [
    "print(\"sorting numpy as rows: \")\n",
    "a"
   ]
  },
  {
   "cell_type": "code",
   "execution_count": 6,
   "id": "6d99e954",
   "metadata": {},
   "outputs": [],
   "source": [
    "b = sampleArray[sampleArray[:,1].argsort()]"
   ]
  },
  {
   "cell_type": "code",
   "execution_count": 7,
   "id": "ccf0391f",
   "metadata": {},
   "outputs": [
    {
     "name": "stdout",
     "output_type": "stream",
     "text": [
      "sorting numpy as colomn: \n"
     ]
    },
    {
     "data": {
      "text/plain": [
       "array([[82, 22, 12],\n",
       "       [34, 43, 73],\n",
       "       [53, 94, 66]])"
      ]
     },
     "execution_count": 7,
     "metadata": {},
     "output_type": "execute_result"
    }
   ],
   "source": [
    "print(\"sorting numpy as colomn: \")\n",
    "b"
   ]
  }
 ],
 "metadata": {
  "kernelspec": {
   "display_name": "Python 3 (ipykernel)",
   "language": "python",
   "name": "python3"
  },
  "language_info": {
   "codemirror_mode": {
    "name": "ipython",
    "version": 3
   },
   "file_extension": ".py",
   "mimetype": "text/x-python",
   "name": "python",
   "nbconvert_exporter": "python",
   "pygments_lexer": "ipython3",
   "version": "3.10.2"
  }
 },
 "nbformat": 4,
 "nbformat_minor": 5
}
